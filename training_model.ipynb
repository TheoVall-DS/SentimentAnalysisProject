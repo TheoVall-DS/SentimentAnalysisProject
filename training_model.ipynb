{
 "cells": [
  {
   "cell_type": "markdown",
   "metadata": {},
   "source": [
    "Спарсенный датасет можно скачать отсюда: https://www.kaggle.com/theovall/phonereviews"
   ]
  },
  {
   "cell_type": "markdown",
   "metadata": {},
   "source": [
    "### Загрузка и обработка датасета"
   ]
  },
  {
   "cell_type": "code",
   "execution_count": 1,
   "metadata": {},
   "outputs": [],
   "source": [
    "# Базовые библиотеки\n",
    "import numpy as np\n",
    "import pandas as pd"
   ]
  },
  {
   "cell_type": "code",
   "execution_count": 2,
   "metadata": {},
   "outputs": [
    {
     "data": {
      "text/html": [
       "<div>\n",
       "<style scoped>\n",
       "    .dataframe tbody tr th:only-of-type {\n",
       "        vertical-align: middle;\n",
       "    }\n",
       "\n",
       "    .dataframe tbody tr th {\n",
       "        vertical-align: top;\n",
       "    }\n",
       "\n",
       "    .dataframe thead th {\n",
       "        text-align: right;\n",
       "    }\n",
       "</style>\n",
       "<table border=\"1\" class=\"dataframe\">\n",
       "  <thead>\n",
       "    <tr style=\"text-align: right;\">\n",
       "      <th></th>\n",
       "      <th>Review</th>\n",
       "      <th>Rating</th>\n",
       "    </tr>\n",
       "  </thead>\n",
       "  <tbody>\n",
       "    <tr>\n",
       "      <th>0</th>\n",
       "      <td>3D Touch просто восхитительная вещь! Заряд дер...</td>\n",
       "      <td>5</td>\n",
       "    </tr>\n",
       "    <tr>\n",
       "      <th>1</th>\n",
       "      <td>Отключается при температуре близкой к нулю, не...</td>\n",
       "      <td>4</td>\n",
       "    </tr>\n",
       "    <tr>\n",
       "      <th>2</th>\n",
       "      <td>В Apple окончательно решили не заморачиваться,...</td>\n",
       "      <td>3</td>\n",
       "    </tr>\n",
       "    <tr>\n",
       "      <th>3</th>\n",
       "      <td>Постарался наиболее ёмко и коротко описать все...</td>\n",
       "      <td>4</td>\n",
       "    </tr>\n",
       "    <tr>\n",
       "      <th>4</th>\n",
       "      <td>Достойный телефон. Пользоваться одно удовольст...</td>\n",
       "      <td>5</td>\n",
       "    </tr>\n",
       "  </tbody>\n",
       "</table>\n",
       "</div>"
      ],
      "text/plain": [
       "                                              Review  Rating\n",
       "0  3D Touch просто восхитительная вещь! Заряд дер...       5\n",
       "1  Отключается при температуре близкой к нулю, не...       4\n",
       "2  В Apple окончательно решили не заморачиваться,...       3\n",
       "3  Постарался наиболее ёмко и коротко описать все...       4\n",
       "4  Достойный телефон. Пользоваться одно удовольст...       5"
      ]
     },
     "execution_count": 2,
     "metadata": {},
     "output_type": "execute_result"
    }
   ],
   "source": [
    "# Загружаем датасет\n",
    "train_data = pd.read_csv('data.csv').dropna().drop_duplicates(ignore_index = True)\n",
    "train_data.head()"
   ]
  },
  {
   "cell_type": "code",
   "execution_count": 3,
   "metadata": {},
   "outputs": [
    {
     "name": "stdout",
     "output_type": "stream",
     "text": [
      "<class 'pandas.core.frame.DataFrame'>\n",
      "RangeIndex: 321101 entries, 0 to 321100\n",
      "Data columns (total 2 columns):\n",
      " #   Column  Non-Null Count   Dtype \n",
      "---  ------  --------------   ----- \n",
      " 0   Review  321101 non-null  object\n",
      " 1   Rating  321101 non-null  int64 \n",
      "dtypes: int64(1), object(1)\n",
      "memory usage: 4.9+ MB\n"
     ]
    }
   ],
   "source": [
    "train_data.info()"
   ]
  },
  {
   "cell_type": "code",
   "execution_count": 4,
   "metadata": {},
   "outputs": [],
   "source": [
    "# Удалим отзывы с оценкой 3, чтобы снизить неопределенность\n",
    "train_data = train_data[train_data['Rating'] != 3]"
   ]
  },
  {
   "cell_type": "code",
   "execution_count": 5,
   "metadata": {},
   "outputs": [],
   "source": [
    "# 1 - позитивный, 0 - негативный\n",
    "convert_dict = {1: 0, 2: 0, 4: 1, 5: 1}\n",
    "train_data['Label'] = train_data['Rating'].map(convert_dict)"
   ]
  },
  {
   "cell_type": "code",
   "execution_count": 6,
   "metadata": {},
   "outputs": [
    {
     "name": "stdout",
     "output_type": "stream",
     "text": [
      "Доля положительных отзывов: 0.83\n",
      "Доля отрицательных отзывов: 0.17\n"
     ]
    }
   ],
   "source": [
    "# Баланс классов\n",
    "print('Доля положительных отзывов:', \n",
    "      np.round(len(train_data[train_data['Label'] == 1]) / len(train_data), 2))\n",
    "print('Доля отрицательных отзывов:', \n",
    "      np.round(len(train_data[train_data['Label'] == 0]) / len(train_data), 2))"
   ]
  },
  {
   "cell_type": "code",
   "execution_count": 7,
   "metadata": {},
   "outputs": [
    {
     "name": "stdout",
     "output_type": "stream",
     "text": [
      "Оценки пользователей [5 4 2 1 7 0 9]\n",
      "Количество странных объектов 3\n"
     ]
    }
   ],
   "source": [
    "# Аномальные рейтинги\n",
    "print('Оценки пользователей', train_data['Rating'].unique())\n",
    "print('Количество странных объектов', len(train_data[(train_data['Rating'] == 0) | (train_data['Rating'] == 7) | (train_data['Rating'] == 9)]))"
   ]
  },
  {
   "cell_type": "code",
   "execution_count": 8,
   "metadata": {},
   "outputs": [],
   "source": [
    "# Удалим безболезненно\n",
    "ind_drop = train_data[(train_data['Rating'] == 0) | (train_data['Rating'] == 7) | (train_data['Rating'] == 9)].index\n",
    "train_data = train_data.drop(ind_drop).reset_index(drop = True)"
   ]
  },
  {
   "cell_type": "markdown",
   "metadata": {},
   "source": [
    "### Бейзлайны (LinearSVC и LogisticRegression)"
   ]
  },
  {
   "cell_type": "code",
   "execution_count": 16,
   "metadata": {},
   "outputs": [],
   "source": [
    "from sklearn.linear_model import LogisticRegression\n",
    "from sklearn.svm import LinearSVC\n",
    "from sklearn.feature_extraction.text import CountVectorizer, TfidfVectorizer\n",
    "from sklearn.model_selection import cross_val_score\n",
    "from sklearn.pipeline import Pipeline\n",
    "from sklearn.compose import ColumnTransformer"
   ]
  },
  {
   "cell_type": "code",
   "execution_count": 10,
   "metadata": {},
   "outputs": [],
   "source": [
    "# Сразу выставляем баланс классов согласно их весу в выборке\n",
    "logreg = LogisticRegression(max_iter = 1000, n_jobs = -1, class_weight = 'balanced')\n",
    "svc = LinearSVC(max_iter = 3000, class_weight = 'balanced')\n",
    "\n",
    "# Используем биграммы и ограничиваем количество признаков для ускорения вычислений\n",
    "vectorizer = CountVectorizer(ngram_range = (1, 2), max_features = 15000)\n",
    "tfidf = TfidfVectorizer(ngram_range = (1, 2), max_features = 15000)\n",
    "\n",
    "# Пайплайны для алгоритмов\n",
    "pipe_logreg = Pipeline([('vec', vectorizer),\n",
    "                        ('clf', logreg)])\n",
    "pipe_svc = Pipeline([('vec', tfidf),\n",
    "                     ('clf', svc)])"
   ]
  },
  {
   "cell_type": "code",
   "execution_count": 11,
   "metadata": {},
   "outputs": [
    {
     "name": "stdout",
     "output_type": "stream",
     "text": [
      "Mean accuracy logreg: 0.8976\n",
      "Wall time: 2min 48s\n"
     ]
    }
   ],
   "source": [
    "%%time\n",
    "score_logreg = cross_val_score(pipe_logreg, train_data['Review'], train_data['Label'],\n",
    "                               scoring = 'accuracy', cv = 3, n_jobs = -1)\n",
    "print('Mean accuracy logreg:', np.round(score_logreg.mean(), 4))"
   ]
  },
  {
   "cell_type": "code",
   "execution_count": 12,
   "metadata": {},
   "outputs": [
    {
     "name": "stdout",
     "output_type": "stream",
     "text": [
      "Mean accuracy svc: 0.8964\n",
      "Wall time: 1min 51s\n"
     ]
    }
   ],
   "source": [
    "%%time\n",
    "score_svc = cross_val_score(pipe_svc, train_data['Review'], train_data['Label'],\n",
    "                            scoring = 'accuracy', cv = 3, n_jobs = -1)\n",
    "print('Mean accuracy svc:', np.round(score_svc.mean(), 4))"
   ]
  },
  {
   "cell_type": "markdown",
   "metadata": {},
   "source": [
    "Значимой разницы в качестве нет, оставляем SVM, т.к. считает быстрее"
   ]
  },
  {
   "cell_type": "markdown",
   "metadata": {},
   "source": [
    "### Автоанализатор тональности как дополнительный признак"
   ]
  },
  {
   "cell_type": "code",
   "execution_count": 14,
   "metadata": {},
   "outputs": [
    {
     "name": "stderr",
     "output_type": "stream",
     "text": [
      "Warning : `load_model` does not return WordVectorModel or SupervisedModel any more, but a `FastText` object which is very similar.\n"
     ]
    }
   ],
   "source": [
    "from dostoevsky.tokenization import RegexTokenizer\n",
    "from dostoevsky.models import FastTextSocialNetworkModel\n",
    "\n",
    "tokenizer = RegexTokenizer()\n",
    "model = FastTextSocialNetworkModel(tokenizer=tokenizer)"
   ]
  },
  {
   "cell_type": "code",
   "execution_count": 15,
   "metadata": {},
   "outputs": [
    {
     "data": {
      "text/html": [
       "<div>\n",
       "<style scoped>\n",
       "    .dataframe tbody tr th:only-of-type {\n",
       "        vertical-align: middle;\n",
       "    }\n",
       "\n",
       "    .dataframe tbody tr th {\n",
       "        vertical-align: top;\n",
       "    }\n",
       "\n",
       "    .dataframe thead th {\n",
       "        text-align: right;\n",
       "    }\n",
       "</style>\n",
       "<table border=\"1\" class=\"dataframe\">\n",
       "  <thead>\n",
       "    <tr style=\"text-align: right;\">\n",
       "      <th></th>\n",
       "      <th>Review</th>\n",
       "      <th>Rating</th>\n",
       "      <th>Label</th>\n",
       "      <th>Sentiment</th>\n",
       "    </tr>\n",
       "  </thead>\n",
       "  <tbody>\n",
       "    <tr>\n",
       "      <th>0</th>\n",
       "      <td>3D Touch просто восхитительная вещь! Заряд дер...</td>\n",
       "      <td>5</td>\n",
       "      <td>1.0</td>\n",
       "      <td>0.787941</td>\n",
       "    </tr>\n",
       "    <tr>\n",
       "      <th>1</th>\n",
       "      <td>Отключается при температуре близкой к нулю, не...</td>\n",
       "      <td>4</td>\n",
       "      <td>1.0</td>\n",
       "      <td>0.136618</td>\n",
       "    </tr>\n",
       "    <tr>\n",
       "      <th>2</th>\n",
       "      <td>Постарался наиболее ёмко и коротко описать все...</td>\n",
       "      <td>4</td>\n",
       "      <td>1.0</td>\n",
       "      <td>0.050341</td>\n",
       "    </tr>\n",
       "    <tr>\n",
       "      <th>3</th>\n",
       "      <td>Достойный телефон. Пользоваться одно удовольст...</td>\n",
       "      <td>5</td>\n",
       "      <td>1.0</td>\n",
       "      <td>0.546748</td>\n",
       "    </tr>\n",
       "    <tr>\n",
       "      <th>4</th>\n",
       "      <td>6s gold 64gb</td>\n",
       "      <td>5</td>\n",
       "      <td>1.0</td>\n",
       "      <td>0.029322</td>\n",
       "    </tr>\n",
       "  </tbody>\n",
       "</table>\n",
       "</div>"
      ],
      "text/plain": [
       "                                              Review  Rating  Label  Sentiment\n",
       "0  3D Touch просто восхитительная вещь! Заряд дер...       5    1.0   0.787941\n",
       "1  Отключается при температуре близкой к нулю, не...       4    1.0   0.136618\n",
       "2  Постарался наиболее ёмко и коротко описать все...       4    1.0   0.050341\n",
       "3  Достойный телефон. Пользоваться одно удовольст...       5    1.0   0.546748\n",
       "4                                       6s gold 64gb       5    1.0   0.029322"
      ]
     },
     "execution_count": 15,
     "metadata": {},
     "output_type": "execute_result"
    }
   ],
   "source": [
    "# Берем уверенность модели в положительности отзыва\n",
    "results = model.predict(train_data['Review'], k=5)\n",
    "train_data['Sentiment'] = [result['positive'] for result in results]\n",
    "train_data.head()"
   ]
  },
  {
   "cell_type": "code",
   "execution_count": 17,
   "metadata": {},
   "outputs": [],
   "source": [
    "# Проверяем качество модели с новым признаков\n",
    "svc = LinearSVC(max_iter = 3000, class_weight = 'balanced')\n",
    "tfidf = TfidfVectorizer(ngram_range = (1, 2), max_features = 15000)\n",
    "\n",
    "coltrans = ColumnTransformer([('vec', tfidf, 'Review')],\n",
    "                             remainder = 'passthrough')\n",
    "\n",
    "feature_pipe = Pipeline([('trans', coltrans),\n",
    "                         ('clf', svc)])\n",
    "\n",
    "score = cross_val_score(feature_pipe, train_data[['Review', 'Sentiment']], \n",
    "                        train_data['Label'], cv = 3, scoring = 'accuracy', n_jobs = -1)"
   ]
  },
  {
   "cell_type": "code",
   "execution_count": 18,
   "metadata": {},
   "outputs": [
    {
     "name": "stdout",
     "output_type": "stream",
     "text": [
      "Mean accuracy svc + analyzer: 0.8964\n"
     ]
    }
   ],
   "source": [
    "print('Mean accuracy svc + analyzer:', np.round(score.mean(), 4))"
   ]
  },
  {
   "cell_type": "markdown",
   "metadata": {},
   "source": [
    "Прироста в качестве нет, убираем признак"
   ]
  },
  {
   "cell_type": "markdown",
   "metadata": {},
   "source": [
    "### Поиск параметров по сетке"
   ]
  },
  {
   "cell_type": "code",
   "execution_count": 19,
   "metadata": {},
   "outputs": [],
   "source": [
    "from sklearn.model_selection import GridSearchCV\n",
    "from sklearn.model_selection import train_test_split"
   ]
  },
  {
   "cell_type": "code",
   "execution_count": 20,
   "metadata": {},
   "outputs": [],
   "source": [
    "# Делим выборку на 2 части: одна для train/test, вторая - валидационная\n",
    "X_train, X_test, y_train, y_test = train_test_split(train_data['Review'],\n",
    "                                                    train_data['Label'],\n",
    "                                                    stratify = train_data['Label'],\n",
    "                                                    test_size = 0.3,\n",
    "                                                    random_state = 42)"
   ]
  },
  {
   "cell_type": "code",
   "execution_count": 21,
   "metadata": {},
   "outputs": [],
   "source": [
    "svc = LinearSVC(max_iter = 3000, class_weight = 'balanced')\n",
    "tfidf = TfidfVectorizer(max_features = 30000) # оставим больше информации в модели\n",
    "\n",
    "pipe = Pipeline([('vec', tfidf),\n",
    "                 ('clf', svc)])\n",
    "param_grid = {'vec__ngram_range': [(1, 2), (1, 3)],\n",
    "              'clf__C': [1, 0.1, 0.01]}\n",
    "model = GridSearchCV(pipe, param_grid = param_grid, cv = 3,\n",
    "                     scoring = 'accuracy', n_jobs = -1).fit(X_train, y_train)"
   ]
  },
  {
   "cell_type": "code",
   "execution_count": 28,
   "metadata": {},
   "outputs": [
    {
     "name": "stdout",
     "output_type": "stream",
     "text": [
      "Best params: {'clf__C': 1, 'vec__ngram_range': (1, 3)}\n",
      "Best accuracy: 0.9132\n"
     ]
    }
   ],
   "source": [
    "print('Best params:', model.best_params_)\n",
    "print('Best accuracy:', np.round(model.best_score_, 4))"
   ]
  },
  {
   "cell_type": "code",
   "execution_count": 29,
   "metadata": {},
   "outputs": [
    {
     "name": "stdout",
     "output_type": "stream",
     "text": [
      "Test accuracy 0.9133\n"
     ]
    }
   ],
   "source": [
    "# Проверка на переобучение на валидационной выборке\n",
    "print('Test accuracy', np.round(model.best_estimator_.score(X_test, y_test), 4))"
   ]
  },
  {
   "cell_type": "markdown",
   "metadata": {},
   "source": [
    "### Лучшая модель"
   ]
  },
  {
   "cell_type": "code",
   "execution_count": 26,
   "metadata": {},
   "outputs": [],
   "source": [
    "best_pipe = Pipeline([('vec', TfidfVectorizer(max_features = 30000, ngram_range = (1, 3))),\n",
    "                      ('clf', LinearSVC(max_iter = 3000, class_weight = 'balanced'))])\n",
    "fitted_model = best_pipe.fit(train_data['Review'], train_data['Label'])"
   ]
  },
  {
   "cell_type": "code",
   "execution_count": 27,
   "metadata": {},
   "outputs": [
    {
     "data": {
      "text/plain": [
       "['model.joblib']"
      ]
     },
     "execution_count": 27,
     "metadata": {},
     "output_type": "execute_result"
    }
   ],
   "source": [
    "# Сохраняем модель\n",
    "from joblib import dump\n",
    "dump(fitted_model, 'model.joblib')"
   ]
  },
  {
   "cell_type": "code",
   "execution_count": null,
   "metadata": {},
   "outputs": [],
   "source": []
  }
 ],
 "metadata": {
  "kernelspec": {
   "display_name": "Python 3",
   "language": "python",
   "name": "python3"
  },
  "language_info": {
   "codemirror_mode": {
    "name": "ipython",
    "version": 3
   },
   "file_extension": ".py",
   "mimetype": "text/x-python",
   "name": "python",
   "nbconvert_exporter": "python",
   "pygments_lexer": "ipython3",
   "version": "3.8.3"
  }
 },
 "nbformat": 4,
 "nbformat_minor": 4
}
